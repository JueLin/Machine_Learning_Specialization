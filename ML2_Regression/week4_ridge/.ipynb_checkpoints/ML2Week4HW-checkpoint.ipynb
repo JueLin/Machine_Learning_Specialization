{
 "cells": [
  {
   "cell_type": "markdown",
   "metadata": {},
   "source": [
    "# Part 1"
   ]
  },
  {
   "cell_type": "code",
   "execution_count": 68,
   "metadata": {
    "collapsed": true
   },
   "outputs": [],
   "source": [
    "import numpy as np\n",
    "from sklearn import linear_model\n",
    "import pandas as pd\n",
    "import matplotlib.pyplot as plt\n",
    "%matplotlib inline"
   ]
  },
  {
   "cell_type": "code",
   "execution_count": 69,
   "metadata": {
    "collapsed": true
   },
   "outputs": [],
   "source": [
    "def polynomial_dataframe(feature, degree): # feature is pandas.Series type\n",
    "    # assume that degree >= 1\n",
    "    # initialize the dataframe:\n",
    "    poly_dataframe = pd.DataFrame()\n",
    "    # and set poly_dataframe['power_1'] equal to the passed feature\n",
    "    poly_dataframe['power_1'] = feature\n",
    "    # first check if degree > 1\n",
    "    if degree > 1:\n",
    "        # then loop over the remaining degrees:\n",
    "        for power in range(2, degree+1):\n",
    "            # first we'll give the column a name:\n",
    "            name = 'power_' + str(power)\n",
    "            # assign poly_dataframe[name] to be feature^power; use apply(*)\n",
    "            poly_dataframe[name] = feature.apply(lambda x: x**power)\n",
    "    return poly_dataframe"
   ]
  },
  {
   "cell_type": "code",
   "execution_count": 70,
   "metadata": {
    "collapsed": false
   },
   "outputs": [
    {
     "name": "stderr",
     "output_type": "stream",
     "text": [
      "/home/jue/anaconda2/lib/python2.7/site-packages/ipykernel/__main__.py:4: FutureWarning: sort(columns=....) is deprecated, use sort_values(by=.....)\n"
     ]
    }
   ],
   "source": [
    "dtype_dict = {'bathrooms':float, 'waterfront':int, 'sqft_above':int, 'sqft_living15':float, 'grade':int, 'yr_renovated':int, 'price':float, 'bedrooms':float, 'zipcode':str, 'long':float, 'sqft_lot15':float, 'sqft_living':float, 'floors':float, 'condition':int, 'lat':float, 'date':str, 'sqft_basement':int, 'yr_built':int, 'id':str, 'sqft_lot':int, 'view':int}\n",
    "\n",
    "sales = pd.read_csv('kc_house_data.csv', dtype=dtype_dict)\n",
    "sales = sales.sort(['sqft_living','price'])"
   ]
  },
  {
   "cell_type": "markdown",
   "metadata": {},
   "source": [
    "## Q1"
   ]
  },
  {
   "cell_type": "code",
   "execution_count": 71,
   "metadata": {
    "collapsed": false
   },
   "outputs": [
    {
     "name": "stdout",
     "output_type": "stream",
     "text": [
      "124.873306481\n"
     ]
    }
   ],
   "source": [
    "l2_small_penalty = 1.5e-5\n",
    "\n",
    "poly15_data = polynomial_dataframe(sales['sqft_living'], 15)\n",
    "model = linear_model.Ridge(alpha=l2_small_penalty, normalize=True)\n",
    "model.fit(poly15_data, sales['price'])\n",
    "print model.coef_[0]"
   ]
  },
  {
   "cell_type": "markdown",
   "metadata": {},
   "source": [
    "## Q2"
   ]
  },
  {
   "cell_type": "code",
   "execution_count": 72,
   "metadata": {
    "collapsed": true
   },
   "outputs": [],
   "source": [
    "# dtype_dict same as above\n",
    "set_1 = pd.read_csv('wk3_kc_house_set_1_data.csv', dtype=dtype_dict)\n",
    "set_2 = pd.read_csv('wk3_kc_house_set_2_data.csv', dtype=dtype_dict)\n",
    "set_3 = pd.read_csv('wk3_kc_house_set_3_data.csv', dtype=dtype_dict)\n",
    "set_4 = pd.read_csv('wk3_kc_house_set_4_data.csv', dtype=dtype_dict)"
   ]
  },
  {
   "cell_type": "code",
   "execution_count": 73,
   "metadata": {
    "collapsed": true
   },
   "outputs": [],
   "source": [
    "l2_small_penalty = 1e-9"
   ]
  },
  {
   "cell_type": "code",
   "execution_count": 74,
   "metadata": {
    "collapsed": false
   },
   "outputs": [
    {
     "name": "stdout",
     "output_type": "stream",
     "text": [
      "544.669390621 859.362646805 -755.395862301 1119.44575768\n"
     ]
    }
   ],
   "source": [
    "data_1 = polynomial_dataframe(set_1['sqft_living'], 15)\n",
    "model_1 = linear_model.Ridge(alpha=l2_small_penalty, normalize=True)\n",
    "model_1.fit(data_1, set_1['price'])\n",
    "\n",
    "data_2 = polynomial_dataframe(set_2['sqft_living'], 15)\n",
    "model_2 = linear_model.Ridge(alpha=l2_small_penalty, normalize=True)\n",
    "model_2.fit(data_2, set_2['price'])\n",
    "\n",
    "data_3 = polynomial_dataframe(set_3['sqft_living'], 15)\n",
    "model_3 = linear_model.Ridge(alpha=l2_small_penalty, normalize=True)\n",
    "model_3.fit(data_3, set_3['price'])\n",
    "\n",
    "data_4 = polynomial_dataframe(set_4['sqft_living'], 15)\n",
    "model_4 = linear_model.Ridge(alpha=l2_small_penalty, normalize=True)\n",
    "model_4.fit(data_4, set_4['price'])\n",
    "\n",
    "print str(model_1.coef_[0]) + ' ' + str(model_2.coef_[0]) + ' ' + str(model_3.coef_[0]) + ' ' + str(model_4.coef_[0])"
   ]
  },
  {
   "cell_type": "code",
   "execution_count": 75,
   "metadata": {
    "collapsed": true
   },
   "outputs": [],
   "source": [
    "l2_large_penalty = 1.23e2"
   ]
  },
  {
   "cell_type": "code",
   "execution_count": 76,
   "metadata": {
    "collapsed": false
   },
   "outputs": [
    {
     "name": "stdout",
     "output_type": "stream",
     "text": [
      "2.32806802958 2.09756902778 2.28906258119 2.08596194092\n"
     ]
    }
   ],
   "source": [
    "data_1 = polynomial_dataframe(set_1['sqft_living'], 15)\n",
    "model_1 = linear_model.Ridge(alpha=l2_large_penalty, normalize=True)\n",
    "model_1.fit(data_1, set_1['price'])\n",
    "\n",
    "data_2 = polynomial_dataframe(set_2['sqft_living'], 15)\n",
    "model_2 = linear_model.Ridge(alpha=l2_large_penalty, normalize=True)\n",
    "model_2.fit(data_2, set_2['price'])\n",
    "\n",
    "data_3 = polynomial_dataframe(set_3['sqft_living'], 15)\n",
    "model_3 = linear_model.Ridge(alpha=l2_large_penalty, normalize=True)\n",
    "model_3.fit(data_3, set_3['price'])\n",
    "\n",
    "data_4 = polynomial_dataframe(set_4['sqft_living'], 15)\n",
    "model_4 = linear_model.Ridge(alpha=l2_large_penalty, normalize=True)\n",
    "model_4.fit(data_4, set_4['price'])\n",
    "\n",
    "print str(model_1.coef_[0]) + ' ' + str(model_2.coef_[0]) + ' ' + str(model_3.coef_[0]) + ' ' + str(model_4.coef_[0])"
   ]
  },
  {
   "cell_type": "markdown",
   "metadata": {},
   "source": [
    "## Q3"
   ]
  },
  {
   "cell_type": "code",
   "execution_count": 77,
   "metadata": {
    "collapsed": true
   },
   "outputs": [],
   "source": [
    "train_valid_shuffled = pd.read_csv('wk3_kc_house_train_valid_shuffled.csv', dtype=dtype_dict)\n",
    "test = pd.read_csv('wk3_kc_house_test_data.csv', dtype=dtype_dict)"
   ]
  },
  {
   "cell_type": "code",
   "execution_count": 78,
   "metadata": {
    "collapsed": false
   },
   "outputs": [
    {
     "name": "stdout",
     "output_type": "stream",
     "text": [
      "0 (0, 1938)\n",
      "1 (1939, 3878)\n",
      "2 (3879, 5817)\n",
      "3 (5818, 7757)\n",
      "4 (7758, 9697)\n",
      "5 (9698, 11636)\n",
      "6 (11637, 13576)\n",
      "7 (13577, 15515)\n",
      "8 (15516, 17455)\n",
      "9 (17456, 19395)\n"
     ]
    }
   ],
   "source": [
    "n = len(train_valid_shuffled)\n",
    "k = 10 # 10-fold cross-validation\n",
    "\n",
    "for i in xrange(k):\n",
    "    start = (n*i)/k\n",
    "    end = (n*(i+1))/k-1\n",
    "    print i, (start, end)"
   ]
  },
  {
   "cell_type": "code",
   "execution_count": 79,
   "metadata": {
    "collapsed": true
   },
   "outputs": [],
   "source": [
    "def k_fold_cross_validation(k, l2_penalty, data, output):\n",
    "    n = len(data)\n",
    "    error = 0.\n",
    "    for i in range(k):\n",
    "        start = (n*i)/k\n",
    "        end = (n*(i+1))/k\n",
    "        model = linear_model.Ridge(alpha=l2_penalty, normalize=True)\n",
    "        model.fit(data[0:start].append(data[end:n]), output[0:start].append(output[end:n]))\n",
    "        error = error + np.sum((model.predict(data[start:end]) - output[start:end])**2)\n",
    "    return error/k"
   ]
  },
  {
   "cell_type": "code",
   "execution_count": 80,
   "metadata": {
    "collapsed": true
   },
   "outputs": [],
   "source": [
    "poly15_data = polynomial_dataframe(train_valid_shuffled['sqft_living'], 15)\n",
    "poly15_output = train_valid_shuffled['price']"
   ]
  },
  {
   "cell_type": "code",
   "execution_count": 81,
   "metadata": {
    "collapsed": false
   },
   "outputs": [],
   "source": [
    "l2_penalty = np.logspace(3, 9, num=13)\n",
    "k = 10"
   ]
  },
  {
   "cell_type": "code",
   "execution_count": 82,
   "metadata": {
    "collapsed": false
   },
   "outputs": [
    {
     "name": "stdout",
     "output_type": "stream",
     "text": [
      "[264977361036975.9, 265692935858318.25, 265924368957215.75, 265998081509342.84, 266021444553980.56, 266028837918724.4, 266031176438468.1, 266031915996607.25, 266032149870752.6, 266032223828783.7, 266032247216419.94, 266032254612245.0, 266032256951011.16]\n",
      "1000.0\n"
     ]
    }
   ],
   "source": [
    "error = []\n",
    "for i in range(len(l2_penalty)):\n",
    "    error.append(k_fold_cross_validation(k, l2_penalty[i], poly15_data, poly15_output))\n",
    "print error\n",
    "best_l2_penalty = l2_penalty[error.index(min(error))]\n",
    "print best_l2_penalty"
   ]
  },
  {
   "cell_type": "markdown",
   "metadata": {},
   "source": [
    "## Q4"
   ]
  },
  {
   "cell_type": "code",
   "execution_count": 83,
   "metadata": {
    "collapsed": false
   },
   "outputs": [
    {
     "name": "stdout",
     "output_type": "stream",
     "text": [
      "2.83756877068e+14\n"
     ]
    },
    {
     "name": "stderr",
     "output_type": "stream",
     "text": [
      "/home/jue/anaconda2/lib/python2.7/site-packages/ipykernel/__main__.py:2: FutureWarning: sort(columns=....) is deprecated, use sort_values(by=.....)\n",
      "  from ipykernel import kernelapp as app\n",
      "/home/jue/anaconda2/lib/python2.7/site-packages/ipykernel/__main__.py:4: FutureWarning: sort(columns=....) is deprecated, use sort_values(by=.....)\n"
     ]
    }
   ],
   "source": [
    "train = pd.read_csv('wk3_kc_house_train_data.csv', dtype=dtype_dict)\n",
    "train.sort(['sqft_living', 'price'])\n",
    "test = pd.read_csv('wk3_kc_house_test_data.csv', dtype=dtype_dict)\n",
    "test.sort(['sqft_living', 'price'])\n",
    "\n",
    "train_data = polynomial_dataframe(train['sqft_living'], 15)\n",
    "model = linear_model.Ridge(alpha=best_l2_penalty, normalize=True)\n",
    "model.fit(train_data, train['price'])\n",
    "\n",
    "test_data = polynomial_dataframe(test['sqft_living'], 15)\n",
    "print np.sum((model.predict(test_data) - test['price'])**2)"
   ]
  },
  {
   "cell_type": "markdown",
   "metadata": {},
   "source": [
    "#  "
   ]
  },
  {
   "cell_type": "markdown",
   "metadata": {},
   "source": [
    "# Part 2"
   ]
  },
  {
   "cell_type": "code",
   "execution_count": 84,
   "metadata": {
    "collapsed": true
   },
   "outputs": [],
   "source": [
    "def get_numpy_data(data, features, output):\n",
    "    data['constant'] = 1\n",
    "    features = ['constant'] + features\n",
    "    output_np = data[output]\n",
    "    output_np = output_np.as_matrix()\n",
    "    data_np = data.as_matrix(features)\n",
    "    return (data_np, output_np)"
   ]
  },
  {
   "cell_type": "code",
   "execution_count": 85,
   "metadata": {
    "collapsed": true
   },
   "outputs": [],
   "source": [
    "def predict_output(data_np, weights):\n",
    "    predictions = np.dot(data_np, weights)\n",
    "    return predictions"
   ]
  },
  {
   "cell_type": "code",
   "execution_count": 114,
   "metadata": {
    "collapsed": true
   },
   "outputs": [],
   "source": [
    "def feature_derivative_ridge(errors, feature, weight, l2_penalty, feature_is_constant):\n",
    "    derivative = (2.)*np.dot(errors, feature)\n",
    "    if not feature_is_constant:\n",
    "        derivative = derivative + 2.*l2_penalty*weight\n",
    "    return derivative"
   ]
  },
  {
   "cell_type": "code",
   "execution_count": 115,
   "metadata": {
    "collapsed": true
   },
   "outputs": [],
   "source": [
    "def ridge_regression_gradient_descent(feature_matrix, output, initial_weights, step_size, l2_penalty, max_iterations=100):\n",
    "    weights = np.array(initial_weights) # make sure it's a numpy array\n",
    "    iteration = 0\n",
    "    #while not reached maximum number of iterations:\n",
    "    # compute the predictions using your predict_output() function\n",
    "    while iteration < max_iterations:\n",
    "        predictions = predict_output(feature_matrix, weights)\n",
    "        errors = output - predictions\n",
    "        sum_of_gradient_mag = 0.\n",
    "        # compute the errors as predictions - output\n",
    "        for i in xrange(len(weights)): # loop over each weight\n",
    "            # Recall that feature_matrix[:,i] is the feature column associated with weights[i]\n",
    "            # compute the derivative for weight[i].\n",
    "            #(Remember: when i=0, you are computing the derivative of the constant!)\n",
    "            gradient = feature_derivative_ridge(errors, feature_matrix[:, i], weights[i], l2_penalty, i == 0)\n",
    "            weights[i] = weights[i] - step_size * gradient\n",
    "            sum_of_gradient_mag = sum_of_gradient_mag + gradient**2\n",
    "            # subtract the step size times the derivative from the current weight  \n",
    "            \n",
    "        iteration = iteration + 1\n",
    "    \n",
    "    return weights"
   ]
  },
  {
   "cell_type": "markdown",
   "metadata": {},
   "source": [
    "## Q1"
   ]
  },
  {
   "cell_type": "code",
   "execution_count": 116,
   "metadata": {
    "collapsed": true
   },
   "outputs": [],
   "source": [
    "train_data = pd.read_csv('wk3_kc_house_train_data.csv', dtype=dtype_dict)\n",
    "test_data = pd.read_csv('wk3_kc_house_test_data.csv', dtype=dtype_dict)"
   ]
  },
  {
   "cell_type": "code",
   "execution_count": 117,
   "metadata": {
    "collapsed": true
   },
   "outputs": [],
   "source": [
    "simple_features = ['sqft_living']\n",
    "my_output = 'price'\n",
    "(simple_feature_matrix, output) = get_numpy_data(train_data, simple_features, my_output)\n",
    "(simple_test_feature_matrix, test_output) = get_numpy_data(test_data, simple_features, my_output)"
   ]
  },
  {
   "cell_type": "code",
   "execution_count": 118,
   "metadata": {
    "collapsed": true
   },
   "outputs": [],
   "source": [
    "step_size = 1e-12\n",
    "max_iterations = 1000\n",
    "l2_penalty = 0.\n",
    "initial_weights = [0., 0.]"
   ]
  },
  {
   "cell_type": "code",
   "execution_count": 119,
   "metadata": {
    "collapsed": true
   },
   "outputs": [],
   "source": [
    "simple_weights_0_penalty = ridge_regression_gradient_descent(simple_feature_matrix, output, initial_weights, step_size, l2_penalty, max_iterations)"
   ]
  },
  {
   "cell_type": "code",
   "execution_count": 120,
   "metadata": {
    "collapsed": true
   },
   "outputs": [],
   "source": [
    "l2_penalty = 1e11\n",
    "simple_weights_high_penalty = ridge_regression_gradient_descent(simple_feature_matrix, output, initial_weights, step_size, l2_penalty, max_iterations)"
   ]
  },
  {
   "cell_type": "code",
   "execution_count": 121,
   "metadata": {
    "collapsed": false
   },
   "outputs": [
    {
     "data": {
      "text/plain": [
       "[<matplotlib.lines.Line2D at 0x7f67781d57d0>,\n",
       " <matplotlib.lines.Line2D at 0x7f6770bb1d90>,\n",
       " <matplotlib.lines.Line2D at 0x7f6770bbd510>]"
      ]
     },
     "execution_count": 121,
     "metadata": {},
     "output_type": "execute_result"
    },
    {
     "data": {
      "image/png": "[encoded data removed]",
      "text/plain": [
       "<matplotlib.figure.Figure at 0x7f6777fd8e50>"
      ]
     },
     "metadata": {},
     "output_type": "display_data"
    }
   ],
   "source": [
    "plt.plot(simple_feature_matrix[:, 1],output,'k.',\n",
    "        simple_feature_matrix[:, 1],predict_output(simple_feature_matrix, simple_weights_0_penalty),'b-',\n",
    "        simple_feature_matrix[:, 1],predict_output(simple_feature_matrix, simple_weights_high_penalty),'r-')"
   ]
  },
  {
   "cell_type": "code",
   "execution_count": 122,
   "metadata": {
    "collapsed": false
   },
   "outputs": [
    {
     "name": "stdout",
     "output_type": "stream",
     "text": [
      "[ -8.55038595e-02   2.64788506e+02] [  6.96906922  89.30826422]\n"
     ]
    }
   ],
   "source": [
    "print str(simple_weights_0_penalty) + ' ' + str(simple_weights_high_penalty)"
   ]
  },
  {
   "cell_type": "markdown",
   "metadata": {},
   "source": [
    "## Q2"
   ]
  },
  {
   "cell_type": "code",
   "execution_count": 123,
   "metadata": {
    "collapsed": false
   },
   "outputs": [
    {
     "name": "stdout",
     "output_type": "stream",
     "text": [
      "initial_weight TEST RSS = 9.27913649763e+14\n",
      "no regularization TEST RSS = 1.43086951736e+14\n",
      "L2 regularization TEST RSS = 4.85876997386e+14\n"
     ]
    }
   ],
   "source": [
    "print 'initial_weight TEST RSS = ' + str(np.sum((predict_output(simple_test_feature_matrix, initial_weights) - test_output)**2))\n",
    "print 'no regularization TEST RSS = ' + str(np.sum((predict_output(simple_test_feature_matrix, simple_weights_0_penalty) - test_output)**2))\n",
    "print 'L2 regularization TEST RSS = ' + str(np.sum((predict_output(simple_test_feature_matrix, simple_weights_high_penalty) - test_output)**2))"
   ]
  },
  {
   "cell_type": "markdown",
   "metadata": {},
   "source": [
    "## Q3"
   ]
  },
  {
   "cell_type": "code",
   "execution_count": 124,
   "metadata": {
    "collapsed": true
   },
   "outputs": [],
   "source": [
    "model_features = ['sqft_living', 'sqft_living15']\n",
    "my_output = 'price'\n",
    "(feature_matrix, output) = get_numpy_data(train_data, model_features, my_output)\n",
    "(test_feature_matrix, test_output) = get_numpy_data(test_data, model_features, my_output)"
   ]
  },
  {
   "cell_type": "code",
   "execution_count": 125,
   "metadata": {
    "collapsed": true
   },
   "outputs": [],
   "source": [
    "initial_weights = [0., 0., 0.]\n",
    "step_size = 1e-12\n",
    "max_iterations = 1000\n",
    "l2_penalty = 0.\n",
    "\n",
    "multiple_weights_0_penalty = ridge_regression_gradient_descent(feature_matrix, output, initial_weights, step_size, l2_penalty, max_iterations )"
   ]
  },
  {
   "cell_type": "code",
   "execution_count": 126,
   "metadata": {
    "collapsed": true
   },
   "outputs": [],
   "source": [
    "l2_penalty = 1e11\n",
    "\n",
    "multiple_weights_high_penalty = ridge_regression_gradient_descent(feature_matrix, output, initial_weights, step_size, l2_penalty, max_iterations )"
   ]
  },
  {
   "cell_type": "code",
   "execution_count": 127,
   "metadata": {
    "collapsed": false
   },
   "outputs": [
    {
     "name": "stdout",
     "output_type": "stream",
     "text": [
      "246.527617426 70.8052433363\n"
     ]
    }
   ],
   "source": [
    "print str(multiple_weights_0_penalty[1]) + ' ' + str(multiple_weights_high_penalty[1])"
   ]
  },
  {
   "cell_type": "markdown",
   "metadata": {},
   "source": [
    "## Q4"
   ]
  },
  {
   "cell_type": "code",
   "execution_count": 135,
   "metadata": {
    "collapsed": false
   },
   "outputs": [
    {
     "name": "stdout",
     "output_type": "stream",
     "text": [
      "initial_weight TEST RSS = 9.27913649763e+14\n",
      "no regularization TEST RSS = 1.42759126397e+14\n",
      "L2 regularization TEST RSS = 3.56770519506e+14\n"
     ]
    }
   ],
   "source": [
    "print 'initial_weight TEST RSS = ' + str(np.sum((predict_output(test_feature_matrix, initial_weights) - test_output)**2))\n",
    "print 'no regularization TEST RSS = ' + str(np.sum((predict_output(test_feature_matrix, multiple_weights_0_penalty) - test_output)**2))\n",
    "print 'L2 regularization TEST RSS = ' + str(np.sum((predict_output(test_feature_matrix, multiple_weights_high_penalty) - test_output)**2))"
   ]
  },
  {
   "cell_type": "markdown",
   "metadata": {},
   "source": [
    "## Q5"
   ]
  },
  {
   "cell_type": "code",
   "execution_count": 129,
   "metadata": {
    "collapsed": true
   },
   "outputs": [],
   "source": [
    "predicted_price_no_reg = predict_output(test_feature_matrix[0], multiple_weights_0_penalty)\n",
    "predicted_price_high_reg = predict_output(test_feature_matrix[0], multiple_weights_high_penalty)"
   ]
  },
  {
   "cell_type": "code",
   "execution_count": 130,
   "metadata": {
    "collapsed": false
   },
   "outputs": [
    {
     "name": "stdout",
     "output_type": "stream",
     "text": [
      "error of model with no regularization = -191644.075028\n",
      "error of model with high regularization = 41856.1281823\n"
     ]
    }
   ],
   "source": [
    "print 'error of model with no regularization = ' + str(test_output[0] - predicted_price_no_reg)\n",
    "print 'error of model with high regularization = ' + str(test_output[0] - predicted_price_high_reg)"
   ]
  },
  {
   "cell_type": "code",
   "execution_count": null,
   "metadata": {
    "collapsed": true
   },
   "outputs": [],
   "source": []
  }
 ],
 "metadata": {
  "kernelspec": {
   "display_name": "Python [Root]",
   "language": "python",
   "name": "Python [Root]"
  },
  "language_info": {
   "codemirror_mode": {
    "name": "ipython",
    "version": 2
   },
   "file_extension": ".py",
   "mimetype": "text/x-python",
   "name": "python",
   "nbconvert_exporter": "python",
   "pygments_lexer": "ipython2",
   "version": "2.7.12"
  }
 },
 "nbformat": 4,
 "nbformat_minor": 0
}
