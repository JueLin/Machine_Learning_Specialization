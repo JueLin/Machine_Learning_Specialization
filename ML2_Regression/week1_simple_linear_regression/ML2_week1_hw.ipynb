{
 "cells": [
  {
   "cell_type": "code",
   "execution_count": 4,
   "metadata": {
    "collapsed": true
   },
   "outputs": [],
   "source": [
    "import pandas as pd\n",
    "import numpy as np\n",
    "import matplotlib.pyplot as plt\n",
    "%matplotlib inline"
   ]
  },
  {
   "cell_type": "code",
   "execution_count": 5,
   "metadata": {
    "collapsed": true
   },
   "outputs": [],
   "source": [
    "dtype_dict = {'bathrooms':float, 'waterfront':int, 'sqft_above':int, 'sqft_living15':float, 'grade':int, 'yr_renovated':int, 'price':float, 'bedrooms':float, 'zipcode':str, 'long':float, 'sqft_lot15':float, 'sqft_living':float, 'floors':str, 'condition':int, 'lat':float, 'date':str, 'sqft_basement':int, 'yr_built':int, 'id':str, 'sqft_lot':int, 'view':int}\n",
    "train = pd.read_csv('kc_house_train_data.csv', dtype=dtype_dict)\n",
    "test = pd.read_csv('kc_house_test_data.csv', dtype=dtype_dict)"
   ]
  },
  {
   "cell_type": "code",
   "execution_count": 50,
   "metadata": {
    "collapsed": true
   },
   "outputs": [],
   "source": [
    "def simple_linear_regression(input_col, label):\n",
    "    num_row = len(input_col)\n",
    "    x = input_col.values.reshape(num_row, 1)\n",
    "    y = label.values.reshape(num_row, 1)\n",
    "    x_mean = np.mean(x)\n",
    "    y_mean = np.mean(y)\n",
    "    xx_mean = np.mean(np.multiply(x, x))\n",
    "    xy_mean = np.mean(np.multiply(x, y))\n",
    "    slope = (xy_mean - x_mean*y_mean)/(xx_mean - x_mean**2)\n",
    "    intercept = y_mean - slope * x_mean\n",
    "    return {'intercept':intercept, 'slope':slope}"
   ]
  },
  {
   "cell_type": "code",
   "execution_count": 51,
   "metadata": {
    "collapsed": false
   },
   "outputs": [
    {
     "name": "stdout",
     "output_type": "stream",
     "text": [
      "-47116.0790729 281.95883963\n"
     ]
    }
   ],
   "source": [
    "model_sqft = simple_linear_regression(train['sqft_living'], train['price'])\n",
    "print str(model_sqft['intercept']) + ' ' + str(model_sqft['slope'])"
   ]
  },
  {
   "cell_type": "code",
   "execution_count": 52,
   "metadata": {
    "collapsed": true
   },
   "outputs": [],
   "source": [
    "def get_regression_prediction(input_col, intercept, slope):\n",
    "    num_row = len(input_col)\n",
    "    predicted_output = np.zeros((num_row, 1))\n",
    "    for i in range(num_row):\n",
    "        predicted_output[i] = intercept + slope * input_col[i]\n",
    "    return predicted_output"
   ]
  },
  {
   "cell_type": "markdown",
   "metadata": {},
   "source": [
    "## Q1"
   ]
  },
  {
   "cell_type": "code",
   "execution_count": 53,
   "metadata": {
    "collapsed": false
   },
   "outputs": [
    {
     "name": "stdout",
     "output_type": "stream",
     "text": [
      "[[ 700074.84594751]]\n"
     ]
    }
   ],
   "source": [
    "print str(get_regression_prediction([2650], **model_sqft))"
   ]
  },
  {
   "cell_type": "markdown",
   "metadata": {},
   "source": [
    "## Q2"
   ]
  },
  {
   "cell_type": "code",
   "execution_count": 59,
   "metadata": {
    "collapsed": true
   },
   "outputs": [],
   "source": [
    "def get_residual_sum_of_squares(input_col, output, intercept, slope):\n",
    "    RSS = 0.0\n",
    "    num_row = len(input_col)\n",
    "    for i in range(num_row):\n",
    "        RSS = RSS + (get_regression_prediction([input_col[i]], intercept, slope) - output[i])**2\n",
    "    return RSS"
   ]
  },
  {
   "cell_type": "code",
   "execution_count": 60,
   "metadata": {
    "collapsed": false
   },
   "outputs": [
    {
     "name": "stdout",
     "output_type": "stream",
     "text": [
      "[[  1.20191835e+15]]\n"
     ]
    }
   ],
   "source": [
    "print str(get_residual_sum_of_squares(train['sqft_living'], train['price'], **model_sqft))"
   ]
  },
  {
   "cell_type": "markdown",
   "metadata": {},
   "source": [
    "## Q3"
   ]
  },
  {
   "cell_type": "code",
   "execution_count": 61,
   "metadata": {
    "collapsed": true
   },
   "outputs": [],
   "source": [
    "def inverse_regression_predictions(output, intercept, slope):\n",
    "    num_row = len(output)\n",
    "    estimated_input = np.zeros((num_row, 1))\n",
    "    for i in range(num_row):\n",
    "        estimated_input[i] = (output[i] - intercept)/slope\n",
    "    return estimated_input"
   ]
  },
  {
   "cell_type": "code",
   "execution_count": 62,
   "metadata": {
    "collapsed": false
   },
   "outputs": [
    {
     "name": "stdout",
     "output_type": "stream",
     "text": [
      "[[ 3004.39624515]]\n"
     ]
    }
   ],
   "source": [
    "print str(inverse_regression_predictions([800000.0], **model_sqft))"
   ]
  },
  {
   "cell_type": "markdown",
   "metadata": {},
   "source": [
    "## Q4"
   ]
  },
  {
   "cell_type": "code",
   "execution_count": 63,
   "metadata": {
    "collapsed": false
   },
   "outputs": [
    {
     "name": "stdout",
     "output_type": "stream",
     "text": [
      "RSS of sqft model = [[  2.75402934e+14]]\n",
      "RSS of br model = [[  4.93364586e+14]]\n"
     ]
    }
   ],
   "source": [
    "model_br = simple_linear_regression(train['bedrooms'], train['price'])\n",
    "print 'RSS of sqft model = ' + str(get_residual_sum_of_squares(test['sqft_living'], test['price'], **model_sqft))\n",
    "print 'RSS of br model = ' + str(get_residual_sum_of_squares(test['bedrooms'], test['price'], **model_br))"
   ]
  },
  {
   "cell_type": "code",
   "execution_count": null,
   "metadata": {
    "collapsed": true
   },
   "outputs": [],
   "source": []
  }
 ],
 "metadata": {
  "kernelspec": {
   "display_name": "Python [Root]",
   "language": "python",
   "name": "Python [Root]"
  },
  "language_info": {
   "codemirror_mode": {
    "name": "ipython",
    "version": 2
   },
   "file_extension": ".py",
   "mimetype": "text/x-python",
   "name": "python",
   "nbconvert_exporter": "python",
   "pygments_lexer": "ipython2",
   "version": "2.7.12"
  }
 },
 "nbformat": 4,
 "nbformat_minor": 0
}
