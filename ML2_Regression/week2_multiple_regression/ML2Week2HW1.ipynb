{
 "cells": [
  {
   "cell_type": "code",
   "execution_count": 11,
   "metadata": {
    "collapsed": true
   },
   "outputs": [],
   "source": [
    "import pandas as pd\n",
    "import numpy as np\n",
    "from sklearn import linear_model\n",
    "from sklearn.metrics import mean_squared_error\n",
    "import matplotlib.pyplot as plt\n",
    "%matplotlib inline "
   ]
  },
  {
   "cell_type": "markdown",
   "metadata": {},
   "source": [
    "# Part 1"
   ]
  },
  {
   "cell_type": "code",
   "execution_count": 12,
   "metadata": {
    "collapsed": true
   },
   "outputs": [],
   "source": [
    "dtype_dict = {'bathrooms':float, 'waterfront':int, 'sqft_above':int, 'sqft_living15':float, 'grade':int, 'yr_renovated':int, 'price':float, 'bedrooms':float, 'zipcode':str, 'long':float, 'sqft_lot15':float, 'sqft_living':float, 'floors':str, 'condition':int, 'lat':float, 'date':str, 'sqft_basement':int, 'yr_built':int, 'id':str, 'sqft_lot':int, 'view':int}\n",
    "train = pd.read_csv('kc_house_train_data.csv', dtype=dtype_dict)\n",
    "test = pd.read_csv('kc_house_test_data.csv', dtype=dtype_dict)"
   ]
  },
  {
   "cell_type": "code",
   "execution_count": 13,
   "metadata": {
    "collapsed": false
   },
   "outputs": [],
   "source": [
    "train['bedrooms_squared'] = pd.Series(np.multiply(train['bedrooms'], train['bedrooms']))\n",
    "train['bed_bath_rooms'] = pd.Series(np.multiply(train['bedrooms'], train['bathrooms']))\n",
    "train['log_sqft_living'] = pd.Series(np.log(train['sqft_living']))\n",
    "train['lat_plus_long'] = pd.Series(np.add(train['lat'], train['long']))\n",
    "\n",
    "test['bedrooms_squared'] = pd.Series(np.multiply(test['bedrooms'], test['bedrooms']))\n",
    "test['bed_bath_rooms'] = pd.Series(np.multiply(test['bedrooms'], test['bathrooms']))\n",
    "test['log_sqft_living'] = pd.Series(np.log(test['sqft_living']))\n",
    "test['lat_plus_long'] = pd.Series(np.add(test['lat'], test['long']))\n"
   ]
  },
  {
   "cell_type": "markdown",
   "metadata": {},
   "source": [
    "## Q1"
   ]
  },
  {
   "cell_type": "code",
   "execution_count": 14,
   "metadata": {
    "collapsed": false
   },
   "outputs": [
    {
     "name": "stdout",
     "output_type": "stream",
     "text": [
      "bedroom_squared = 12.4466777016\n",
      "bed_bath_roomw = 7.50390163159\n",
      "log_sqft_living = 7.55027467965\n",
      "lat_plus_long = -74.653333554\n"
     ]
    }
   ],
   "source": [
    "print 'bedroom_squared = ' + str(np.mean(test['bedrooms_squared']))\n",
    "print 'bed_bath_roomw = ' + str(np.mean(test['bed_bath_rooms']))\n",
    "print 'log_sqft_living = ' + str(np.mean(test['log_sqft_living']))\n",
    "print 'lat_plus_long = ' + str(np.mean(test['lat_plus_long']))"
   ]
  },
  {
   "cell_type": "markdown",
   "metadata": {},
   "source": [
    "## Q2"
   ]
  },
  {
   "cell_type": "code",
   "execution_count": 15,
   "metadata": {
    "collapsed": false
   },
   "outputs": [
    {
     "data": {
      "text/plain": [
       "17384"
      ]
     },
     "execution_count": 15,
     "metadata": {},
     "output_type": "execute_result"
    }
   ],
   "source": [
    "len(train['price'])"
   ]
  },
  {
   "cell_type": "code",
   "execution_count": 16,
   "metadata": {
    "collapsed": false
   },
   "outputs": [
    {
     "name": "stdout",
     "output_type": "stream",
     "text": [
      "model 1 = [  3.12258646e+02  -5.95865332e+04   1.57067421e+04   6.58619264e+05\n",
      "  -3.09374351e+05]\n",
      "training MSE = 55676481997.8\n",
      "testing MSE = 53322409504.7\n"
     ]
    }
   ],
   "source": [
    "regr = linear_model.LinearRegression()\n",
    "model1 = regr.fit(train[['sqft_living', 'bedrooms', 'bathrooms', 'lat', 'long']], train['price'])\n",
    "print 'model 1 = ' + str(model1.coef_)\n",
    "y_hat = model1.predict(train[['sqft_living', 'bedrooms', 'bathrooms', 'lat', 'long']])\n",
    "print 'training MSE = '+ str(mean_squared_error(y_hat, train['price']))\n",
    "y_hat = model1.predict(test[['sqft_living', 'bedrooms', 'bathrooms', 'lat', 'long']])\n",
    "print 'testing MSE = '+ str(mean_squared_error(y_hat, test['price']))"
   ]
  },
  {
   "cell_type": "code",
   "execution_count": 17,
   "metadata": {
    "collapsed": false
   },
   "outputs": [
    {
     "name": "stdout",
     "output_type": "stream",
     "text": [
      "model 2 = [  3.06610053e+02  -1.13446368e+05  -7.14613083e+04   6.54844630e+05\n",
      "  -2.94298969e+05   2.55796520e+04]\n",
      "training MSE = 55132284576.3\n",
      "testing MSE = 52820397960.9\n"
     ]
    }
   ],
   "source": [
    "regr = linear_model.LinearRegression()\n",
    "model2 = regr.fit(train[['sqft_living', 'bedrooms', 'bathrooms', 'lat', 'long', 'bed_bath_rooms']], train['price'])\n",
    "print 'model 2 = ' + str(model2.coef_)\n",
    "y_hat = model2.predict(train[['sqft_living', 'bedrooms', 'bathrooms', 'lat', 'long', 'bed_bath_rooms']])\n",
    "print 'training MSE = '+ str(mean_squared_error(y_hat, train['price']))\n",
    "y_hat = model2.predict(test[['sqft_living', 'bedrooms', 'bathrooms', 'lat', 'long', 'bed_bath_rooms']])\n",
    "print 'testing MSE = '+ str(mean_squared_error(y_hat, test['price']))"
   ]
  },
  {
   "cell_type": "code",
   "execution_count": 18,
   "metadata": {
    "collapsed": false
   },
   "outputs": [
    {
     "name": "stdout",
     "output_type": "stream",
     "text": [
      "model 3 = [  5.29422820e+02   3.45142296e+04   6.70607813e+04   5.34085611e+05\n",
      "  -4.06750711e+05  -8.57050439e+03  -6.78858667e+03  -5.61831484e+05\n",
      "   1.27334900e+05]\n",
      "training MSE = 51969423323.2\n",
      "testing MSE = 61299673494.2\n"
     ]
    }
   ],
   "source": [
    "regr = linear_model.LinearRegression()\n",
    "model3 = regr.fit(train[['sqft_living', 'bedrooms', 'bathrooms', 'lat', 'long', 'bed_bath_rooms', 'bedrooms_squared', 'log_sqft_living','lat_plus_long']], train['price'])\n",
    "print 'model 3 = ' + str(model3.coef_)\n",
    "y_hat = model3.predict(train[['sqft_living', 'bedrooms', 'bathrooms', 'lat', 'long', 'bed_bath_rooms', 'bedrooms_squared', 'log_sqft_living','lat_plus_long']])\n",
    "print 'training MSE = '+ str(mean_squared_error(y_hat, train['price']))\n",
    "y_hat = model3.predict(test[['sqft_living', 'bedrooms', 'bathrooms', 'lat', 'long', 'bed_bath_rooms', 'bedrooms_squared', 'log_sqft_living','lat_plus_long']])\n",
    "print 'testing MSE = '+ str(mean_squared_error(y_hat, test['price']))"
   ]
  },
  {
   "cell_type": "markdown",
   "metadata": {
    "collapsed": true
   },
   "source": [
    "# Part 2"
   ]
  },
  {
   "cell_type": "code",
   "execution_count": 62,
   "metadata": {
    "collapsed": true
   },
   "outputs": [],
   "source": [
    "train = pd.read_csv('kc_house_train_data.csv', dtype=dtype_dict)"
   ]
  },
  {
   "cell_type": "code",
   "execution_count": 69,
   "metadata": {
    "collapsed": true
   },
   "outputs": [],
   "source": [
    "def get_numpy_data(data, features, output):\n",
    "    data['constant'] = 1\n",
    "    features = ['constant'] + features\n",
    "    output_np = data[output]\n",
    "    output_np = output_np.as_matrix()\n",
    "    data_np = data.as_matrix(features)\n",
    "    return (data_np, output_np)"
   ]
  },
  {
   "cell_type": "code",
   "execution_count": 70,
   "metadata": {
    "collapsed": true
   },
   "outputs": [],
   "source": [
    "def predict_outcome(data_np, weights):\n",
    "    predictions = np.dot(data_np, weights)\n",
    "    return predictions"
   ]
  },
  {
   "cell_type": "code",
   "execution_count": 130,
   "metadata": {
    "collapsed": true
   },
   "outputs": [],
   "source": [
    "def feature_derivative(errors, feature):\n",
    "    derivative = np.dot(errors, feature) \n",
    "    return derivative*(-2.0)"
   ]
  },
  {
   "cell_type": "code",
   "execution_count": 131,
   "metadata": {
    "collapsed": false
   },
   "outputs": [],
   "source": [
    "def regression_gradient_descent(data_np, output_np, initial_weights, step_size, tolerance):\n",
    "        converged = False\n",
    "        weights = np.array(initial_weights)\n",
    "        while not converged:\n",
    "            predictions = predict_outcome(data_np, weights)\n",
    "            errors = output_np - predictions\n",
    "            gradient_sum_square = 0.0\n",
    "            \n",
    "            for i in range(len(weights)):\n",
    "                derivative = feature_derivative(errors, data_np[:, i])\n",
    "                gradient_sum_square = gradient_sum_square + derivative**2\n",
    "                weights[i] = weights[i] - derivative * step_size\n",
    "                \n",
    "            gradient_mag = np.sqrt(gradient_sum_square)\n",
    "            if gradient_mag < tolerance:\n",
    "                converged = True\n",
    "            \n",
    "        return weights"
   ]
  },
  {
   "cell_type": "code",
   "execution_count": 132,
   "metadata": {
    "collapsed": false
   },
   "outputs": [],
   "source": [
    "features = ['sqft_living']\n",
    "output = 'price'\n",
    "initial_weights = [-47000., 1.]\n",
    "step_size = 7e-12\n",
    "tolerance = 2.5e7\n",
    "data_np, output_np = get_numpy_data(train, features, output)"
   ]
  },
  {
   "cell_type": "markdown",
   "metadata": {},
   "source": [
    "## Simple model coefficients"
   ]
  },
  {
   "cell_type": "code",
   "execution_count": 134,
   "metadata": {
    "collapsed": false
   },
   "outputs": [
    {
     "name": "stdout",
     "output_type": "stream",
     "text": [
      "[-46999.88716555    281.91211918]\n"
     ]
    }
   ],
   "source": [
    "simple_weights = regression_gradient_descent(data_np, output_np, initial_weights, step_size, tolerance)\n",
    "print str(simple_weights)"
   ]
  },
  {
   "cell_type": "markdown",
   "metadata": {},
   "source": [
    "## Predict via simple model"
   ]
  },
  {
   "cell_type": "code",
   "execution_count": 135,
   "metadata": {
    "collapsed": false
   },
   "outputs": [
    {
     "name": "stdout",
     "output_type": "stream",
     "text": [
      "356134.443255\n"
     ]
    }
   ],
   "source": [
    "test = pd.read_csv('kc_house_test_data.csv', dtype=dtype_dict)\n",
    "test_data_np, test_output_np = get_numpy_data(test, features, output)\n",
    "predicted_output_np = predict_outcome(test_data_np, simple_weights)\n",
    "print str(predicted_output_np[0])"
   ]
  },
  {
   "cell_type": "markdown",
   "metadata": {},
   "source": [
    "## RSS of simple model on test data"
   ]
  },
  {
   "cell_type": "code",
   "execution_count": 137,
   "metadata": {
    "collapsed": false
   },
   "outputs": [
    {
     "name": "stdout",
     "output_type": "stream",
     "text": [
      "2.75400044902e+14\n"
     ]
    }
   ],
   "source": [
    "test_rss = np.sum((predicted_output_np - test_output_np)**2)\n",
    "print test_rss"
   ]
  },
  {
   "cell_type": "markdown",
   "metadata": {},
   "source": [
    "## Multiple Regression Coefficients"
   ]
  },
  {
   "cell_type": "code",
   "execution_count": 140,
   "metadata": {
    "collapsed": true
   },
   "outputs": [],
   "source": [
    "features = ['sqft_living', 'sqft_living15']\n",
    "output = 'price'\n",
    "new_data_np, new_output_np = get_numpy_data(train, features, output)\n",
    "initial_weights = np.array([-100000., 1., 1.])\n",
    "step_size = 4e-12\n",
    "tolerance = 1e9"
   ]
  },
  {
   "cell_type": "code",
   "execution_count": 141,
   "metadata": {
    "collapsed": true
   },
   "outputs": [],
   "source": [
    "new_weights = regression_gradient_descent(new_data_np, new_output_np, initial_weights, step_size, tolerance)"
   ]
  },
  {
   "cell_type": "code",
   "execution_count": 142,
   "metadata": {
    "collapsed": false
   },
   "outputs": [
    {
     "name": "stdout",
     "output_type": "stream",
     "text": [
      "366651.411629\n"
     ]
    }
   ],
   "source": [
    "test_data_np, test_output_np = get_numpy_data(test, features, output)\n",
    "predicted_output_np = predict_outcome(test_data_np, new_weights)\n",
    "print str(predicted_output_np[0])"
   ]
  },
  {
   "cell_type": "code",
   "execution_count": 143,
   "metadata": {
    "collapsed": false
   },
   "outputs": [
    {
     "name": "stdout",
     "output_type": "stream",
     "text": [
      "actual price = 310000.0\n"
     ]
    }
   ],
   "source": [
    "print 'actual price = ' + str(test_output_np[0])"
   ]
  },
  {
   "cell_type": "markdown",
   "metadata": {},
   "source": [
    "## RSS of multiple regression model on test data"
   ]
  },
  {
   "cell_type": "code",
   "execution_count": 144,
   "metadata": {
    "collapsed": false
   },
   "outputs": [
    {
     "name": "stdout",
     "output_type": "stream",
     "text": [
      "2.7026344363e+14\n"
     ]
    }
   ],
   "source": [
    "test_rss = np.sum((predicted_output_np - test_output_np)**2)\n",
    "print test_rss"
   ]
  },
  {
   "cell_type": "code",
   "execution_count": null,
   "metadata": {
    "collapsed": true
   },
   "outputs": [],
   "source": []
  }
 ],
 "metadata": {
  "kernelspec": {
   "display_name": "Python [Root]",
   "language": "python",
   "name": "Python [Root]"
  },
  "language_info": {
   "codemirror_mode": {
    "name": "ipython",
    "version": 2
   },
   "file_extension": ".py",
   "mimetype": "text/x-python",
   "name": "python",
   "nbconvert_exporter": "python",
   "pygments_lexer": "ipython2",
   "version": "2.7.12"
  }
 },
 "nbformat": 4,
 "nbformat_minor": 0
}
